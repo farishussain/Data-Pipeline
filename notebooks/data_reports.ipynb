{
 "cells": [
  {
   "cell_type": "markdown",
   "metadata": {},
   "source": [
    "# Energy Data Query Notebook\n",
    "\n",
    "This notebook queries the Delta tables created by the data ingestion script."
   ]
  },
  {
   "cell_type": "code",
   "execution_count": 29,
   "metadata": {},
   "outputs": [],
   "source": [
    "# Import required libraries\n",
    "from pyspark.sql import SparkSession\n",
    "\n",
    "# Initialize Spark session with Delta support\n",
    "spark = SparkSession.builder \\\n",
    "    .appName(\"Energy Data Query\") \\\n",
    "    .config(\"spark.sql.extensions\", \"io.delta.sql.DeltaSparkSessionExtension\") \\\n",
    "    .config(\"spark.sql.catalog.spark_catalog\", \"org.apache.spark.sql.delta.catalog.DeltaCatalog\") \\\n",
    "    .config(\"spark.jars.packages\", \"io.delta:delta-core_2.12:2.4.0\") \\\n",
    "    .getOrCreate()"
   ]
  },
  {
   "cell_type": "code",
   "execution_count": 30,
   "metadata": {},
   "outputs": [],
   "source": [
    "# Define the paths to the Delta tables (adjust these paths as per your config)\n",
    "STG_public_power_path = \"/workspaces/baywa-data-pipeline/Data/Staging_Schema/public_power\"  # Replace with your actual path\n",
    "STG_price_path = \"/workspaces/baywa-data-pipeline/data/Staging_Schema/price\"                  # Replace with your actual path\n",
    "STG_installed_power_path = \"/workspaces/baywa-data-pipeline/data/Staging_Schema/installed_power\"  # Replace with your actual path"
   ]
  },
  {
   "cell_type": "code",
   "execution_count": 36,
   "metadata": {},
   "outputs": [
    {
     "name": "stdout",
     "output_type": "stream",
     "text": [
      "+-------+----------+--------------------+----------+-------------------+-------+\n",
      "|country|       end|     production_type|     start|          timestamp|  value|\n",
      "+-------+----------+--------------------+----------+-------------------+-------+\n",
      "|     de|2024-01-01|Hydro pumped stor...|2024-01-01|2024-01-01 15:00:00|-1683.1|\n",
      "|     de|2024-01-01|Hydro pumped stor...|2024-01-01|2024-01-01 15:00:00|-2070.5|\n",
      "|     de|2024-01-01|Hydro pumped stor...|2024-01-01|2024-01-01 15:00:00|-2412.2|\n",
      "|     de|2024-01-01|Hydro pumped stor...|2024-01-01|2024-01-01 15:00:00|-2535.5|\n",
      "|     de|2024-01-01|Hydro pumped stor...|2024-01-01|2024-01-01 15:00:00|-3244.7|\n",
      "|     de|2024-01-01|Hydro pumped stor...|2024-01-01|2024-01-01 15:00:00|-2564.3|\n",
      "|     de|2024-01-01|Hydro pumped stor...|2024-01-01|2024-01-01 15:00:00|-2578.4|\n",
      "|     de|2024-01-01|Hydro pumped stor...|2024-01-01|2024-01-01 15:00:00|-2614.3|\n",
      "|     de|2024-01-01|Hydro pumped stor...|2024-01-01|2024-01-01 15:00:00|-3377.2|\n",
      "|     de|2024-01-01|Hydro pumped stor...|2024-01-01|2024-01-01 15:00:00|-3250.7|\n",
      "|     de|2024-01-01|Hydro pumped stor...|2024-01-01|2024-01-01 15:00:00|-3307.7|\n",
      "|     de|2024-01-01|Hydro pumped stor...|2024-01-01|2024-01-01 15:00:00|-3328.4|\n",
      "|     de|2024-01-01|Hydro pumped stor...|2024-01-01|2024-01-01 15:00:00|-3561.4|\n",
      "|     de|2024-01-01|Hydro pumped stor...|2024-01-01|2024-01-01 15:00:00|-3189.7|\n",
      "|     de|2024-01-01|Hydro pumped stor...|2024-01-01|2024-01-01 15:00:00|-3273.4|\n",
      "|     de|2024-01-01|Hydro pumped stor...|2024-01-01|2024-01-01 15:00:00|-3361.8|\n",
      "|     de|2024-01-01|Hydro pumped stor...|2024-01-01|2024-01-01 15:00:00|-3688.8|\n",
      "|     de|2024-01-01|Hydro pumped stor...|2024-01-01|2024-01-01 15:00:00|-3711.8|\n",
      "|     de|2024-01-01|Hydro pumped stor...|2024-01-01|2024-01-01 15:00:00|-3545.1|\n",
      "|     de|2024-01-01|Hydro pumped stor...|2024-01-01|2024-01-01 15:00:00|-3612.1|\n",
      "+-------+----------+--------------------+----------+-------------------+-------+\n",
      "only showing top 20 rows\n",
      "\n"
     ]
    }
   ],
   "source": [
    "# Querying public power data\n",
    "stg_public_power_df = spark.read.format(\"delta\").load(STG_public_power_path)\n",
    "stg_public_power_df.createOrReplaceTempView(\"stg_public_power\")\n",
    "\n",
    "# Example SQL query to get average production values\n",
    "stg_public_power = spark.sql(\"\"\"\n",
    "    SELECT *\n",
    "    FROM stg_public_power\n",
    "    LIMIT 100\n",
    "\"\"\")\n",
    "stg_public_power.show()"
   ]
  },
  {
   "cell_type": "code",
   "execution_count": 33,
   "metadata": {},
   "outputs": [
    {
     "name": "stdout",
     "output_type": "stream",
     "text": [
      "+-----+----------+-----+----------+-------------------+-------------------+\n",
      "|  bzn|       end|price|     start|          timestamp|               unit|\n",
      "+-----+----------+-----+----------+-------------------+-------------------+\n",
      "|DE-LU|2024-01-01| 2.24|2024-01-01|2024-01-01 11:00:00|EUR / megawatt_hour|\n",
      "|DE-LU|2024-01-01| 1.96|2024-01-01|2024-01-01 12:00:00|EUR / megawatt_hour|\n",
      "|DE-LU|2024-01-01|48.01|2024-01-01|2024-01-01 19:00:00|EUR / megawatt_hour|\n",
      "|DE-LU|2024-01-01|42.95|2024-01-01|2024-01-01 20:00:00|EUR / megawatt_hour|\n",
      "|DE-LU|2024-01-01| 1.04|2024-01-01|2024-01-01 13:00:00|EUR / megawatt_hour|\n",
      "|DE-LU|2024-01-01| 3.66|2024-01-01|2024-01-01 14:00:00|EUR / megawatt_hour|\n",
      "|DE-LU|2024-01-01|43.06|2024-01-01|2024-01-01 15:00:00|EUR / megawatt_hour|\n",
      "|DE-LU|2024-01-01|49.93|2024-01-01|2024-01-01 16:00:00|EUR / megawatt_hour|\n",
      "|DE-LU|2024-01-01| 58.0|2024-01-01|2024-01-01 17:00:00|EUR / megawatt_hour|\n",
      "|DE-LU|2024-01-01|54.25|2024-01-01|2024-01-01 18:00:00|EUR / megawatt_hour|\n",
      "|DE-LU|2024-01-01|  0.1|2024-01-01|2023-12-31 23:00:00|EUR / megawatt_hour|\n",
      "|DE-LU|2024-01-01| 0.01|2024-01-01|2024-01-01 00:00:00|EUR / megawatt_hour|\n",
      "|DE-LU|2024-01-01|  0.0|2024-01-01|2024-01-01 01:00:00|EUR / megawatt_hour|\n",
      "|DE-LU|2024-01-01|-0.01|2024-01-01|2024-01-01 02:00:00|EUR / megawatt_hour|\n",
      "|DE-LU|2024-01-01|47.09|2024-01-01|2024-01-01 21:00:00|EUR / megawatt_hour|\n",
      "|DE-LU|2024-01-01|35.55|2024-01-01|2024-01-01 22:00:00|EUR / megawatt_hour|\n",
      "|DE-LU|2024-01-01|  0.0|2024-01-01|2024-01-01 07:00:00|EUR / megawatt_hour|\n",
      "|DE-LU|2024-01-01| 0.04|2024-01-01|2024-01-01 08:00:00|EUR / megawatt_hour|\n",
      "|DE-LU|2024-01-01|-0.05|2024-01-01|2024-01-01 05:00:00|EUR / megawatt_hour|\n",
      "|DE-LU|2024-01-01|-0.02|2024-01-01|2024-01-01 06:00:00|EUR / megawatt_hour|\n",
      "+-----+----------+-----+----------+-------------------+-------------------+\n",
      "only showing top 20 rows\n",
      "\n"
     ]
    }
   ],
   "source": [
    "# Querying public power data\n",
    "stg_price_df = spark.read.format(\"delta\").load(STG_price_path)\n",
    "stg_price_df.createOrReplaceTempView(\"stg_price\")\n",
    "\n",
    "# Example SQL query to get average production values\n",
    "stg_price = spark.sql(\"\"\"\n",
    "    SELECT *\n",
    "    FROM stg_price\n",
    "    LIMIT 100\n",
    "\"\"\")\n",
    "stg_price.show()"
   ]
  },
  {
   "cell_type": "code",
   "execution_count": 37,
   "metadata": {},
   "outputs": [
    {
     "name": "stdout",
     "output_type": "stream",
     "text": [
      "+-------+-------------------------+---------------+---------------+---------+----+\n",
      "|country|installation_decommission|installed_power|production_type|time_step|year|\n",
      "+-------+-------------------------+---------------+---------------+---------+----+\n",
      "|     de|                    false|          5.406|  Wind offshore|   yearly|2005|\n",
      "|     de|                    false|          6.393|  Wind offshore|   yearly|2005|\n",
      "|     de|                    false|          7.555|  Wind offshore|   yearly|2005|\n",
      "|     de|                    false|          7.787|  Wind offshore|   yearly|2005|\n",
      "|     de|                    false|          7.787|  Wind offshore|   yearly|2005|\n",
      "|     de|                    false|          8.129|  Wind offshore|   yearly|2005|\n",
      "|     de|                    false|          8.473|  Wind offshore|   yearly|2005|\n",
      "|     de|                    false|          9.215|  Wind offshore|   yearly|2005|\n",
      "|     de|                    false|         11.976|   Wind onshore|   yearly|2005|\n",
      "|     de|                    false|         14.381|   Wind onshore|   yearly|2005|\n",
      "|     de|                    false|         16.419|   Wind onshore|   yearly|2005|\n",
      "|     de|                    false|         18.248|   Wind onshore|   yearly|2005|\n",
      "|     de|                    false|         20.474|   Wind onshore|   yearly|2005|\n",
      "|     de|                    false|         22.116|   Wind onshore|   yearly|2005|\n",
      "|     de|                    false|         22.794|   Wind onshore|   yearly|2005|\n",
      "|     de|                    false|         25.697|   Wind onshore|   yearly|2005|\n",
      "|     de|                    false|         26.823|   Wind onshore|   yearly|2005|\n",
      "|     de|                    false|         28.579|   Wind onshore|   yearly|2005|\n",
      "|     de|                    false|         30.556|   Wind onshore|   yearly|2005|\n",
      "|     de|                    false|         32.969|   Wind onshore|   yearly|2005|\n",
      "+-------+-------------------------+---------------+---------------+---------+----+\n",
      "only showing top 20 rows\n",
      "\n"
     ]
    }
   ],
   "source": [
    "# Querying public power data\n",
    "stg_installed_power_df = spark.read.format(\"delta\").load(STG_installed_power_path)\n",
    "stg_installed_power_df.createOrReplaceTempView(\"stg_price\")\n",
    "\n",
    "# Example SQL query to get average production values\n",
    "stg_installed_power = spark.sql(\"\"\"\n",
    "    SELECT *\n",
    "    FROM stg_price\n",
    "    LIMIT 100\n",
    "\"\"\")\n",
    "stg_installed_power.show()"
   ]
  },
  {
   "cell_type": "code",
   "execution_count": 41,
   "metadata": {},
   "outputs": [],
   "source": [
    "# Define the paths to the Delta tables (adjust these paths as per your config)\n",
    "CDC_public_power_path = \"/workspaces/baywa-data-pipeline/Data/CDC_Schema/public_power\"  # Replace with your actual path\n",
    "CDC_price_path = \"/workspaces/baywa-data-pipeline/data/CDC_Schema/price\"                  # Replace with your actual path\n",
    "CDC_installed_power_path = \"/workspaces/baywa-data-pipeline/data/CDC_Schema/installed_power\"  # Replace with your actual path"
   ]
  },
  {
   "cell_type": "code",
   "execution_count": 46,
   "metadata": {},
   "outputs": [
    {
     "name": "stderr",
     "output_type": "stream",
     "text": [
      "24/11/08 11:29:13 WARN DeltaLog: Change in the table id detected while updating snapshot. \n",
      "Previous snapshot = Snapshot(path=file:/workspaces/baywa-data-pipeline/Data/CDC_Schema/public_power/_delta_log, version=0, metadata=Metadata(b896bb0f-4708-419b-9d85-f94a1c9a4067,null,null,Format(parquet,Map()),{\"type\":\"struct\",\"fields\":[{\"name\":\"country\",\"type\":\"string\",\"nullable\":true,\"metadata\":{}},{\"name\":\"end\",\"type\":\"string\",\"nullable\":true,\"metadata\":{}},{\"name\":\"production_type\",\"type\":\"string\",\"nullable\":true,\"metadata\":{}},{\"name\":\"start\",\"type\":\"string\",\"nullable\":true,\"metadata\":{}},{\"name\":\"timestamp\",\"type\":\"timestamp\",\"nullable\":true,\"metadata\":{}},{\"name\":\"value\",\"type\":\"double\",\"nullable\":true,\"metadata\":{}}]},List(),Map(),Some(1731064740222)), logSegment=LogSegment(file:/workspaces/baywa-data-pipeline/Data/CDC_Schema/public_power/_delta_log,0,WrappedArray(DeprecatedRawLocalFileStatus{path=file:/workspaces/baywa-data-pipeline/Data/CDC_Schema/public_power/_delta_log/00000000000000000000.json; isDirectory=false; length=1772; replication=1; blocksize=33554432; modification_time=1731064746383; access_time=1731064746383; owner=; group=; permission=rw-rw-rw-; isSymlink=false; hasAcl=false; isEncrypted=false; isErasureCoded=false}),None,1731064746383), checksumOpt=None)\n",
      "New snapshot = Snapshot(path=file:/workspaces/baywa-data-pipeline/Data/CDC_Schema/public_power/_delta_log, version=0, metadata=Metadata(504e8e09-3280-4573-8289-44efa288e770,null,null,Format(parquet,Map()),{\"type\":\"struct\",\"fields\":[{\"name\":\"country\",\"type\":\"string\",\"nullable\":true,\"metadata\":{}},{\"name\":\"end\",\"type\":\"string\",\"nullable\":true,\"metadata\":{}},{\"name\":\"production_type\",\"type\":\"string\",\"nullable\":true,\"metadata\":{}},{\"name\":\"start\",\"type\":\"string\",\"nullable\":true,\"metadata\":{}},{\"name\":\"timestamp\",\"type\":\"timestamp\",\"nullable\":true,\"metadata\":{}},{\"name\":\"value\",\"type\":\"double\",\"nullable\":true,\"metadata\":{}}]},List(),Map(),Some(1731065337210)), logSegment=LogSegment(file:/workspaces/baywa-data-pipeline/Data/CDC_Schema/public_power/_delta_log,0,WrappedArray(DeprecatedRawLocalFileStatus{path=file:/workspaces/baywa-data-pipeline/Data/CDC_Schema/public_power/_delta_log/00000000000000000000.json; isDirectory=false; length=1772; replication=1; blocksize=33554432; modification_time=1731065343432; access_time=1731065343432; owner=; group=; permission=rw-rw-rw-; isSymlink=false; hasAcl=false; isEncrypted=false; isErasureCoded=false}),None,1731065343432), checksumOpt=None).\n"
     ]
    },
    {
     "name": "stdout",
     "output_type": "stream",
     "text": [
      "+-------+----------+--------------------+----------+-------------------+--------+\n",
      "|country|       end|     production_type|     start|          timestamp|   value|\n",
      "+-------+----------+--------------------+----------+-------------------+--------+\n",
      "|     de|2024-01-01|Cross border elec...|2024-01-01|2024-01-01 08:30:00|-11869.6|\n",
      "|     de|2024-01-01|                Load|2024-01-01|2024-01-01 07:00:00| 40592.6|\n",
      "|     de|2024-01-01|       Wind offshore|2024-01-01|2024-01-01 07:45:00|  5838.9|\n",
      "|     de|2024-01-01|                Load|2024-01-01|2024-01-01 07:30:00| 40592.6|\n",
      "|     de|2024-01-01|       Residual load|2024-01-01|2024-01-01 08:15:00|  5384.3|\n",
      "|     de|2024-01-01|          Fossil gas|2024-01-01|2024-01-01 07:00:00|  2680.2|\n",
      "|     de|2024-01-01|             Biomass|2024-01-01|2024-01-01 08:15:00|  4180.6|\n",
      "|     de|2024-01-01|Cross border elec...|2024-01-01|2024-01-01 08:45:00|-11869.6|\n",
      "|     de|2024-01-01|Hydro water reser...|2024-01-01|2024-01-01 07:30:00|    86.4|\n",
      "|     de|2024-01-01|Hydro water reser...|2024-01-01|2024-01-01 08:00:00|    86.4|\n",
      "|     de|2024-01-01|          Geothermal|2024-01-01|2024-01-01 07:00:00|    22.9|\n",
      "|     de|2024-01-01|Cross border elec...|2024-01-01|2024-01-01 08:00:00|-11869.6|\n",
      "|     de|2024-01-01|              Others|2024-01-01|2024-01-01 08:30:00|   152.4|\n",
      "|     de|2024-01-01|          Fossil gas|2024-01-01|2024-01-01 07:45:00|  2680.2|\n",
      "|     de|2024-01-01|          Fossil oil|2024-01-01|2024-01-01 08:00:00|   398.4|\n",
      "|     de|2024-01-01|        Wind onshore|2024-01-01|2024-01-01 08:30:00| 29367.0|\n",
      "|     de|2024-01-01|              Others|2024-01-01|2024-01-01 07:00:00|   152.4|\n",
      "|     de|2024-01-01|  Hydro Run-of-River|2024-01-01|2024-01-01 07:30:00|  2223.2|\n",
      "|     de|2024-01-01|Hydro pumped stor...|2024-01-01|2024-01-01 08:30:00| -1683.1|\n",
      "|     de|2024-01-01|Hydro pumped stor...|2024-01-01|2024-01-01 07:00:00| -1683.1|\n",
      "+-------+----------+--------------------+----------+-------------------+--------+\n",
      "only showing top 20 rows\n",
      "\n"
     ]
    }
   ],
   "source": [
    "# Querying public power data\n",
    "public_power_df = spark.read.format(\"delta\").load(CDC_public_power_path)\n",
    "public_power_df.createOrReplaceTempView(\"public_power\")\n",
    "\n",
    "# Example SQL query to get average production values\n",
    "average_public_power = spark.sql(\"\"\"\n",
    "    SELECT *\n",
    "    FROM public_power\n",
    "    LIMIT 100\n",
    "\"\"\")\n",
    "average_public_power.show()"
   ]
  },
  {
   "cell_type": "code",
   "execution_count": 3,
   "metadata": {},
   "outputs": [
    {
     "name": "stderr",
     "output_type": "stream",
     "text": [
      "24/10/30 10:00:17 WARN package: Truncated the string representation of a plan since it was too large. This behavior can be adjusted by setting 'spark.sql.debug.maxToStringFields'.\n",
      "[Stage 9:>                                                        (0 + 12) / 12]\r"
     ]
    },
    {
     "name": "stdout",
     "output_type": "stream",
     "text": [
      "+--------------------+-------------------+\n",
      "|     production_type|      average_value|\n",
      "+--------------------+-------------------+\n",
      "|               Waste| 1115.4239583333328|\n",
      "|          Fossil gas| 2713.9281249999976|\n",
      "|          Fossil oil| 392.81145833333363|\n",
      "|Hydro water reser...|  75.12604166666678|\n",
      "|Renewable share o...|  92.49791666666657|\n",
      "|               Solar| 1135.5500000000018|\n",
      "|Renewable share o...|  80.11875000000002|\n",
      "|       Wind offshore|  5707.162499999985|\n",
      "|             Nuclear|               null|\n",
      "|Cross border elec...| -6802.878124999999|\n",
      "|Hydro pumped storage| 1050.1208333333345|\n",
      "|          Geothermal|  20.22395833333327|\n",
      "|  Hydro Run-of-River| 2080.4947916666647|\n",
      "|        Wind onshore| 26499.397916666672|\n",
      "|       Residual load|  10486.62499999999|\n",
      "|Fossil brown coal...| 3250.2406250000004|\n",
      "|              Others|  211.0635416666664|\n",
      "|    Fossil hard coal| 1713.7614583333345|\n",
      "|             Biomass|  4531.489583333334|\n",
      "|Hydro pumped stor...|-2010.4166666666622|\n",
      "+--------------------+-------------------+\n",
      "only showing top 20 rows\n",
      "\n"
     ]
    },
    {
     "name": "stderr",
     "output_type": "stream",
     "text": [
      "                                                                                \r"
     ]
    }
   ],
   "source": [
    "# Querying public power data\n",
    "public_power_df = spark.read.format(\"delta\").load(public_power_path)\n",
    "public_power_df.createOrReplaceTempView(\"public_power\")\n",
    "\n",
    "# Example SQL query to get average production values\n",
    "average_public_power = spark.sql(\"\"\"\n",
    "    SELECT production_type, AVG(value) AS average_value\n",
    "    FROM public_power\n",
    "    GROUP BY production_type\n",
    "\"\"\")\n",
    "average_public_power.show()"
   ]
  },
  {
   "cell_type": "code",
   "execution_count": 14,
   "metadata": {},
   "outputs": [
    {
     "name": "stderr",
     "output_type": "stream",
     "text": [
      "                                                                                \r"
     ]
    },
    {
     "name": "stdout",
     "output_type": "stream",
     "text": [
      "+------+-------------------+-------------------+\n",
      "| price|          timestamp|               unit|\n",
      "+------+-------------------+-------------------+\n",
      "|115.34|2024-10-30 21:00:00|EUR / megawatt_hour|\n",
      "|112.37|2024-10-30 22:00:00|EUR / megawatt_hour|\n",
      "|102.53|2024-10-30 11:00:00|EUR / megawatt_hour|\n",
      "|106.95|2024-10-30 12:00:00|EUR / megawatt_hour|\n",
      "| 160.0|2024-10-30 15:00:00|EUR / megawatt_hour|\n",
      "|193.88|2024-10-30 16:00:00|EUR / megawatt_hour|\n",
      "| 115.0|2024-10-30 09:00:00|EUR / megawatt_hour|\n",
      "|109.68|2024-10-30 10:00:00|EUR / megawatt_hour|\n",
      "|123.54|2024-10-30 05:00:00|EUR / megawatt_hour|\n",
      "|139.68|2024-10-30 06:00:00|EUR / megawatt_hour|\n",
      "| 98.16|2024-10-30 01:00:00|EUR / megawatt_hour|\n",
      "| 98.05|2024-10-30 02:00:00|EUR / megawatt_hour|\n",
      "|111.31|2024-10-30 13:00:00|EUR / megawatt_hour|\n",
      "|126.16|2024-10-30 14:00:00|EUR / megawatt_hour|\n",
      "|192.89|2024-10-30 17:00:00|EUR / megawatt_hour|\n",
      "|159.44|2024-10-30 18:00:00|EUR / megawatt_hour|\n",
      "|100.71|2024-10-29 23:00:00|EUR / megawatt_hour|\n",
      "|100.52|2024-10-30 00:00:00|EUR / megawatt_hour|\n",
      "|133.56|2024-10-30 19:00:00|EUR / megawatt_hour|\n",
      "|122.67|2024-10-30 20:00:00|EUR / megawatt_hour|\n",
      "+------+-------------------+-------------------+\n",
      "only showing top 20 rows\n",
      "\n"
     ]
    }
   ],
   "source": [
    "# Querying price data\n",
    "price_df = spark.read.format(\"delta\").load(price_path)\n",
    "price_df.createOrReplaceTempView(\"price\")\n",
    "\n",
    "# Example SQL query to get maximum price\n",
    "max_price = spark.sql(\"\"\"\n",
    "    SELECT *\n",
    "    FROM price\n",
    "\"\"\")\n",
    "max_price.show()"
   ]
  },
  {
   "cell_type": "code",
   "execution_count": 13,
   "metadata": {},
   "outputs": [
    {
     "name": "stderr",
     "output_type": "stream",
     "text": [
      "                                                                                \r"
     ]
    },
    {
     "name": "stdout",
     "output_type": "stream",
     "text": [
      "+---------+\n",
      "|max_price|\n",
      "+---------+\n",
      "|   193.88|\n",
      "+---------+\n",
      "\n"
     ]
    }
   ],
   "source": [
    "# Querying price data\n",
    "price_df = spark.read.format(\"delta\").load(price_path)\n",
    "price_df.createOrReplaceTempView(\"price\")\n",
    "\n",
    "# Example SQL query to get maximum price\n",
    "max_price = spark.sql(\"\"\"\n",
    "    SELECT MAX(price) AS max_price\n",
    "    FROM price\n",
    "\"\"\")\n",
    "max_price.show()"
   ]
  },
  {
   "cell_type": "code",
   "execution_count": 16,
   "metadata": {},
   "outputs": [
    {
     "name": "stdout",
     "output_type": "stream",
     "text": [
      "+----+------------------+\n",
      "|year|       total_power|\n",
      "+----+------------------+\n",
      "|2002| 4270.264999999997|\n",
      "|2003| 4270.264999999997|\n",
      "|2004| 4270.264999999997|\n",
      "|2005| 4270.264999999998|\n",
      "|2006| 4270.264999999997|\n",
      "|2007|4270.2649999999985|\n",
      "|2008| 4270.264999999997|\n",
      "|2009|          4270.265|\n",
      "|2010| 4270.264999999997|\n",
      "|2011| 4270.264999999999|\n",
      "|2012| 4270.264999999997|\n",
      "|2013|          4270.265|\n",
      "|2014| 4270.264999999997|\n",
      "|2015| 4270.264999999999|\n",
      "|2016| 4270.264999999997|\n",
      "|2017| 4270.264999999999|\n",
      "|2018| 4270.264999999997|\n",
      "|2019| 4270.264999999999|\n",
      "|2020| 4270.264999999997|\n",
      "|2021| 4270.264999999999|\n",
      "+----+------------------+\n",
      "only showing top 20 rows\n",
      "\n"
     ]
    }
   ],
   "source": [
    "# Querying installed power data\n",
    "installed_power_df = spark.read.format(\"delta\").load(installed_power_path)\n",
    "installed_power_df.createOrReplaceTempView(\"installed_power\")\n",
    "\n",
    "# Example SQL query to get total installed power by year\n",
    "total_installed_power = spark.sql(\"\"\"\n",
    "    SELECT year, SUM(installed_power) AS total_power\n",
    "    FROM installed_power\n",
    "    GROUP BY year\n",
    "    ORDER BY year\n",
    "\"\"\")\n",
    "total_installed_power.show()\n"
   ]
  }
 ],
 "metadata": {
  "kernelspec": {
   "display_name": "Python 3",
   "language": "python",
   "name": "python3"
  },
  "language_info": {
   "codemirror_mode": {
    "name": "ipython",
    "version": 3
   },
   "file_extension": ".py",
   "mimetype": "text/x-python",
   "name": "python",
   "nbconvert_exporter": "python",
   "pygments_lexer": "ipython3",
   "version": "3.10.12"
  }
 },
 "nbformat": 4,
 "nbformat_minor": 2
}
