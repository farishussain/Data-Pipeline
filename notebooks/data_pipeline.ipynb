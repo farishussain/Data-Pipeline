{
 "cells": [
  {
   "cell_type": "code",
   "execution_count": null,
   "metadata": {},
   "outputs": [],
   "source": [
    "# BayWa Data Pipeline Demonstration\n",
    "\n",
    "## Step 1: Data Ingestion\n",
    "Run the ingestion script to fetch and store data from the API.\n",
    "\n",
    "```python\n",
    "!python scripts/ingest_data.py"
   ]
  }
 ],
 "metadata": {
  "language_info": {
   "name": "python"
  }
 },
 "nbformat": 4,
 "nbformat_minor": 2
}
